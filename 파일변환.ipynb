{
 "cells": [
  {
   "cell_type": "code",
   "execution_count": 1,
   "metadata": {},
   "outputs": [],
   "source": [
    "import os\n",
    "import json\n",
    "\n",
    "book_mapping = {\n",
    "    1: \"창\",  2: \"출\",  3: \"레\",  4: \"민\",  5: \"신\",  6: \"수\",  7: \"삿\",  8: \"룻\",  9: \"삼상\", 10: \"삼하\",\n",
    "    11: \"왕상\", 12: \"왕하\", 13: \"대상\", 14: \"대하\", 15: \"스\", 16: \"느\", 17: \"에\", 18: \"욥\", 19: \"시\", 20: \"잠\",\n",
    "    21: \"전\", 22: \"아\", 23: \"사\", 24: \"렘\", 25: \"애\", 26: \"겔\", 27: \"단\", 28: \"호\", 29: \"욜\", 30: \"암\",\n",
    "    31: \"옵\", 32: \"욘\", 33: \"미\", 34: \"나\", 35: \"합\", 36: \"습\", 37: \"학\", 38: \"슥\", 39: \"말\", 40: \"마\",\n",
    "    41: \"막\", 42: \"눅\", 43: \"요\", 44: \"행\", 45: \"롬\", 46: \"고전\", 47: \"고후\", 48: \"갈\", 49: \"엡\", 50: \"빌\",\n",
    "    51: \"골\", 52: \"살전\", 53: \"살후\", 54: \"딤전\", 55: \"딤후\", 56: \"딛\", 57: \"몬\", 58: \"히\", 59: \"약\", 60: \"벧전\",\n",
    "    61: \"벧후\", 62: \"요일\", 63: \"요이\", 64: \"요삼\", 65: \"유\", 66: \"계\"\n",
    "}\n",
    "\n",
    "folder_path = 'bib_json'\n",
    "\n",
    "for filename in os.listdir(folder_path):\n",
    "    if filename.endswith('.json'):\n",
    "        file_path = os.path.join(folder_path, filename)\n",
    "        \n",
    "        with open(file_path, 'r', encoding='utf-8') as file:\n",
    "            data = json.load(file)\n",
    "        \n",
    "        for item in data:\n",
    "            book_num = item.get('book')\n",
    "            if book_num in book_mapping:\n",
    "                item['book'] = book_mapping[book_num]\n",
    "            else:\n",
    "                print(f\"Book number {book_num} not found in mapping.\")\n",
    "        \n",
    "        with open(file_path, 'w', encoding='utf-8') as file:\n",
    "            json.dump(data, file, ensure_ascii=False, indent=4)\n"
   ]
  }
 ],
 "metadata": {
  "kernelspec": {
   "display_name": "Python 3",
   "language": "python",
   "name": "python3"
  },
  "language_info": {
   "codemirror_mode": {
    "name": "ipython",
    "version": 3
   },
   "file_extension": ".py",
   "mimetype": "text/x-python",
   "name": "python",
   "nbconvert_exporter": "python",
   "pygments_lexer": "ipython3",
   "version": "3.12.3"
  }
 },
 "nbformat": 4,
 "nbformat_minor": 2
}
